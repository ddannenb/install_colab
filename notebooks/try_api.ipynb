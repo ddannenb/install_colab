{
  "nbformat": 4,
  "nbformat_minor": 0,
  "metadata": {
    "kernelspec": {
      "display_name": "Python 3",
      "language": "python",
      "name": "python3"
    },
    "language_info": {
      "codemirror_mode": {
        "name": "ipython",
        "version": 2
      },
      "file_extension": ".py",
      "mimetype": "text/x-python",
      "name": "python",
      "nbconvert_exporter": "python",
      "pygments_lexer": "ipython2",
      "version": "2.7.6"
    },
    "colab": {
      "name": "try_api.ipynb",
      "provenance": []
    }
  },
  "cells": [
    {
      "cell_type": "code",
      "metadata": {
        "colab": {
          "base_uri": "https://localhost:8080/"
        },
        "id": "5WdQOfWCgg60",
        "outputId": "abdfe149-f913-4b5c-9b7c-1920f07d5486"
      },
      "source": [
        "if 'google.colab' in str(get_ipython()):\n",
        "    !git clone https://github.com/ddannenb/install_colab.git\n",
        "    !pip install -e install_colab\n",
        "else:\n",
        "    print(\"Running locally\")"
      ],
      "execution_count": 27,
      "outputs": [
        {
          "output_type": "stream",
          "text": [
            "fatal: destination path 'install_colab' already exists and is not an empty directory.\n",
            "Obtaining file:///content/install_colab\n",
            "Requirement already satisfied: transformers in /usr/local/lib/python3.6/dist-packages (from tryinstallcolab==0.1.0) (4.1.1)\n",
            "Requirement already satisfied: numpy in /usr/local/lib/python3.6/dist-packages (from transformers->tryinstallcolab==0.1.0) (1.19.5)\n",
            "Requirement already satisfied: sacremoses in /usr/local/lib/python3.6/dist-packages (from transformers->tryinstallcolab==0.1.0) (0.0.43)\n",
            "Requirement already satisfied: tokenizers==0.9.4 in /usr/local/lib/python3.6/dist-packages (from transformers->tryinstallcolab==0.1.0) (0.9.4)\n",
            "Requirement already satisfied: tqdm>=4.27 in /usr/local/lib/python3.6/dist-packages (from transformers->tryinstallcolab==0.1.0) (4.41.1)\n",
            "Requirement already satisfied: filelock in /usr/local/lib/python3.6/dist-packages (from transformers->tryinstallcolab==0.1.0) (3.0.12)\n",
            "Requirement already satisfied: dataclasses; python_version < \"3.7\" in /usr/local/lib/python3.6/dist-packages (from transformers->tryinstallcolab==0.1.0) (0.8)\n",
            "Requirement already satisfied: regex!=2019.12.17 in /usr/local/lib/python3.6/dist-packages (from transformers->tryinstallcolab==0.1.0) (2019.12.20)\n",
            "Requirement already satisfied: requests in /usr/local/lib/python3.6/dist-packages (from transformers->tryinstallcolab==0.1.0) (2.23.0)\n",
            "Requirement already satisfied: packaging in /usr/local/lib/python3.6/dist-packages (from transformers->tryinstallcolab==0.1.0) (20.8)\n",
            "Requirement already satisfied: six in /usr/local/lib/python3.6/dist-packages (from sacremoses->transformers->tryinstallcolab==0.1.0) (1.15.0)\n",
            "Requirement already satisfied: joblib in /usr/local/lib/python3.6/dist-packages (from sacremoses->transformers->tryinstallcolab==0.1.0) (1.0.0)\n",
            "Requirement already satisfied: click in /usr/local/lib/python3.6/dist-packages (from sacremoses->transformers->tryinstallcolab==0.1.0) (7.1.2)\n",
            "Requirement already satisfied: chardet<4,>=3.0.2 in /usr/local/lib/python3.6/dist-packages (from requests->transformers->tryinstallcolab==0.1.0) (3.0.4)\n",
            "Requirement already satisfied: urllib3!=1.25.0,!=1.25.1,<1.26,>=1.21.1 in /usr/local/lib/python3.6/dist-packages (from requests->transformers->tryinstallcolab==0.1.0) (1.24.3)\n",
            "Requirement already satisfied: idna<3,>=2.5 in /usr/local/lib/python3.6/dist-packages (from requests->transformers->tryinstallcolab==0.1.0) (2.10)\n",
            "Requirement already satisfied: certifi>=2017.4.17 in /usr/local/lib/python3.6/dist-packages (from requests->transformers->tryinstallcolab==0.1.0) (2020.12.5)\n",
            "Requirement already satisfied: pyparsing>=2.0.2 in /usr/local/lib/python3.6/dist-packages (from packaging->transformers->tryinstallcolab==0.1.0) (2.4.7)\n",
            "Installing collected packages: tryinstallcolab\n",
            "  Found existing installation: tryinstallcolab 0.1.0\n",
            "    Can't uninstall 'tryinstallcolab'. No files were found to uninstall.\n",
            "  Running setup.py develop for tryinstallcolab\n",
            "Successfully installed tryinstallcolab\n"
          ],
          "name": "stdout"
        }
      ]
    },
    {
      "cell_type": "code",
      "metadata": {
        "collapsed": true,
        "id": "Avc7mLJof_he",
        "colab": {
          "base_uri": "https://localhost:8080/"
        },
        "outputId": "04896163-93e4-4c8e-82f9-0a5e5607411a"
      },
      "source": [
        "from an_api import AnApi\n",
        "import transformers\n",
        "\n",
        "x = 5\n",
        "x\n",
        "aa = AnApi(\"Hello\")\n",
        "aa.do_something(True)"
      ],
      "execution_count": 28,
      "outputs": [
        {
          "output_type": "stream",
          "text": [
            "Hello Hello\n"
          ],
          "name": "stdout"
        }
      ]
    },
    {
      "cell_type": "code",
      "metadata": {
        "id": "XaeJk8-OnODM",
        "outputId": "747d871e-6912-46b6-c720-3e6ccd8564c6",
        "colab": {
          "base_uri": "https://localhost:8080/"
        }
      },
      "source": [
        "!git -C /content/install_colab pull origin master\n",
        "!ls -al install_colab/src"
      ],
      "execution_count": 76,
      "outputs": [
        {
          "output_type": "stream",
          "text": [
            "total 28\n",
            "drwxr-xr-x 5 root root 4096 Jan 12 22:24 .\n",
            "drwxr-xr-x 5 root root 4096 Jan 12 21:35 ..\n",
            "-rw-r--r-- 1 root root  229 Jan 12 21:35 an_api.py\n",
            "-rw-r--r-- 1 root root   39 Jan 12 22:24 an_extra_file\n",
            "-rw-r--r-- 1 root root    0 Jan 12 21:35 __init__.py\n",
            "drwxr-xr-x 2 root root 4096 Jan 12 21:40 __pycache__\n",
            "drwxr-xr-x 2 root root 4096 Jan 12 21:35 tests\n",
            "drwxr-xr-x 2 root root 4096 Jan 12 21:57 tryinstallcolab.egg-info\n"
          ],
          "name": "stdout"
        }
      ]
    },
    {
      "cell_type": "code",
      "metadata": {
        "id": "UXRU18nUnPG4"
      },
      "source": [
        ""
      ],
      "execution_count": null,
      "outputs": []
    }
  ]
}