{
 "nbformat": 4,
 "nbformat_minor": 0,
 "metadata": {
  "kernelspec": {
   "display_name": "Python 3",
   "language": "python",
   "name": "python3"
  },
  "language_info": {
   "codemirror_mode": {
    "name": "ipython",
    "version": 2
   },
   "file_extension": ".py",
   "mimetype": "text/x-python",
   "name": "python",
   "nbconvert_exporter": "python",
   "pygments_lexer": "ipython2",
   "version": "2.7.6"
  },
  "colab": {
   "name": "try_api.ipynb",
   "provenance": []
  }
 },
 "cells": [
  {
   "cell_type": "code",
   "metadata": {
    "colab": {
     "base_uri": "https://localhost:8080/"
    },
    "id": "5WdQOfWCgg60",
    "outputId": "88846b95-b46a-4a36-f70f-f7b471e1463c"
   },
   "source": [
    "if 'google.colab' in str(get_ipython()):\n",
    "    !git clone https://github.com/ddannenb/install_colab.git\n",
    "    !pip install -e install_colab\n",
    "else:\n",
    "    print(\"Running locally\")"
   ],
   "execution_count": 20,
   "outputs": [
    {
     "name": "stdout",
     "output_type": "stream",
     "text": [
      "Running locally\n"
     ]
    }
   ]
  },
  {
   "cell_type": "code",
   "metadata": {
    "collapsed": true,
    "id": "Avc7mLJof_he",
    "outputId": "7af2cdfb-3651-4224-9a5c-3e60fccb7b9d",
    "colab": {
     "base_uri": "https://localhost:8080/"
    }
   },
   "source": [
    "from an_api import AnApi\n",
    "import transformers\n",
    "\n",
    "x = 5\n",
    "x\n",
    "aa = AnApi(\"Hello\")\n",
    "aa.do_something(True)"
   ],
   "execution_count": 21,
   "outputs": [
    {
     "name": "stdout",
     "output_type": "stream",
     "text": [
      "Hello Hello\n"
     ]
    }
   ]
  },
  {
   "cell_type": "code",
   "metadata": {
    "id": "kyr4RkRYkkfV"
   },
   "source": [
    ""
   ],
   "execution_count": 18,
   "outputs": []
  }
 ]
}